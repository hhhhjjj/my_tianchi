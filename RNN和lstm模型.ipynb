{
 "cells": [
  {
   "cell_type": "code",
   "execution_count": null,
   "metadata": {
    "collapsed": true
   },
   "outputs": [],
   "source": [
    "# lstm模型就是长短时记忆网络，从RNN来的\n",
    "# RNN就是循环神经网络，针对序列的用的\n",
    "# 在传统的神经网络中，所有的输入之间是相互独立的\n",
    "# 如果想预测一个序列中的下一个词，最好能知道它前面的词有哪些\n",
    "# 在这就是一个神经元输出之后，这个输出再放进输入和下一个输入合起来"
   ]
  },
  {
   "cell_type": "code",
   "execution_count": null,
   "metadata": {},
   "outputs": [],
   "source": [
    "# 而LSTM就是在RNN的这个给下一个的输出上增加了一个c\n",
    "# 这个c叫做cell state\n",
    "# 可以看出这时候的lstm输入有三个，当前时刻网络输入，上一时刻lstm输出，上一时刻单元状态\n",
    "# 输出就是当前lstm输出值和当前时刻单元状态\n",
    "# lstm的关键就是控制长期状态c"
   ]
  },
  {
   "cell_type": "code",
   "execution_count": null,
   "metadata": {},
   "outputs": [],
   "source": [
    "# lstm使用三个控制开关，一个负责控制继续保存长期状态，\n",
    "# 一个负责控制把及时状态输入到长期状态\n",
    "# 一个负责控制是否把当前的c作为当前的lstm输出"
   ]
  },
  {
   "cell_type": "code",
   "execution_count": null,
   "metadata": {},
   "outputs": [],
   "source": [
    "# 输入门的计算简单，就是上次的输出加上这次的输入给个权重就行"
   ]
  },
  {
   "cell_type": "code",
   "execution_count": null,
   "metadata": {},
   "outputs": [],
   "source": [
    "# 描述当前输入的单元状态\n",
    "# 根据上次的输出和本次的输入，来个权重，再来个tan"
   ]
  },
  {
   "cell_type": "code",
   "execution_count": null,
   "metadata": {},
   "outputs": [],
   "source": [
    "# 当前时刻的单元状态\n",
    "# 上次状态乘上遗忘门，当前输入状态乘上输出门，然后再加上产生的\n",
    "# 还是去上网找个图吧，直观多了"
   ]
  },
  {
   "cell_type": "code",
   "execution_count": null,
   "metadata": {},
   "outputs": [],
   "source": []
  },
  {
   "cell_type": "code",
   "execution_count": null,
   "metadata": {},
   "outputs": [],
   "source": []
  },
  {
   "cell_type": "code",
   "execution_count": null,
   "metadata": {},
   "outputs": [],
   "source": []
  },
  {
   "cell_type": "code",
   "execution_count": null,
   "metadata": {},
   "outputs": [],
   "source": []
  },
  {
   "cell_type": "code",
   "execution_count": null,
   "metadata": {},
   "outputs": [],
   "source": []
  },
  {
   "cell_type": "code",
   "execution_count": null,
   "metadata": {},
   "outputs": [],
   "source": []
  },
  {
   "cell_type": "code",
   "execution_count": null,
   "metadata": {},
   "outputs": [],
   "source": []
  }
 ],
 "metadata": {
  "kernelspec": {
   "display_name": "Python 2",
   "language": "python",
   "name": "python2"
  },
  "language_info": {
   "codemirror_mode": {
    "name": "ipython",
    "version": 2
   },
   "file_extension": ".py",
   "mimetype": "text/x-python",
   "name": "python",
   "nbconvert_exporter": "python",
   "pygments_lexer": "ipython2",
   "version": "2.7.6"
  }
 },
 "nbformat": 4,
 "nbformat_minor": 0
}
