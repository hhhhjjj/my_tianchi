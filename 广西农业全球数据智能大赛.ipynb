{
 "cells": [
  {
   "cell_type": "code",
   "execution_count": null,
   "metadata": {
    "collapsed": true
   },
   "outputs": [],
   "source": [
    "import pandas as pd\n",
    "import numpy as np\n",
    "import matplotlib.pyplot as plt\n",
    "import tensorflow as tf\n",
    "train_rice = pd.read_csv('./datalab/231753/train_rice.csv',encoding='gb2312')\n",
    "train_weather = pd.read_csv('/home/tianchi/myspace/train_weather.csv')\n",
    "testA = pd.read_csv('./datalab/231753/testA.csv',header=None,encoding='gb2312')\n",
    "# 我们是testA，所以就预测早稻产量就行了"
   ]
  },
  {
   "cell_type": "code",
   "execution_count": null,
   "metadata": {},
   "outputs": [],
   "source": [
    "# index_unknown=train_weather[[x in ['*','/'] for x in list(train_weather['日降水量（mm）'])]].index\n",
    "# for index in index_unknown:\n",
    "#     train_weather.loc[index,'日降水量（mm）']=train_weather[index-4:index+3]['日降水量（mm）'][train_weather['日降水量（mm）']!='*'][train_weather['日降水量（mm）']!='/'].astype(float).mean()\n",
    "# # 日降水量中的符号替换为近7天的均值\n",
    "train_rice.shape"
   ]
  },
  {
   "cell_type": "code",
   "execution_count": null,
   "metadata": {},
   "outputs": [],
   "source": [
    "# index_unknown=train_weather[train_weather['日照时数（单位：h)']=='/'].index\n",
    "# for index in index_unknown:\n",
    "#     train_weather.loc[index,'日照时数（单位：h)']=train_weather[index-4:index+3]['日照时数（单位：h)'][train_weather['日照时数（单位：h)']!='/'].astype(float).mean()\n",
    "\n",
    "# testA['2018年早稻']  = train_rice['2017年早稻']\n",
    "# testA.to_csv('/home/tianchi/myspace/testA.csv')"
   ]
  },
  {
   "cell_type": "code",
   "execution_count": null,
   "metadata": {},
   "outputs": [],
   "source": [
    "# # 将日平均风速替换成临近七天的均值\n",
    "# index_unknown=train_weather[train_weather['日照时数（单位：h)']=='/'].index\n",
    "# for index in index_unknown:\n",
    "#     train_weather.loc[index,'日照时数（单位：h)']=train_weather[index-4:index+3]['日照时数（单位：h)'][train_weather['日照时数（单位：h)']!='/'].astype(float).mean()\n",
    "train_weather.head()\n",
    "# 每一个区县四年，每一年365天的天气，全都记录下来了"
   ]
  },
  {
   "cell_type": "code",
   "execution_count": null,
   "metadata": {},
   "outputs": [],
   "source": [
    "# # 将日平均风速替换成临近七天的均值\n",
    "# index_unknown=train_weather[train_weather['日照时数（单位：h)']=='/'].index\n",
    "# for index in index_unknown:\n",
    "#     train_weather.loc[index,'日照时数（单位：h)']=train_weather[index-4:index+3]['日照时数（单位：h)'][train_weather['日照时数（单位：h)']!='/'].astype(float).mean()\n",
    "train_weather.head()\n",
    "# 每一个区县四年，每一年365天的天气，全都记录下来了"
   ]
  },
  {
   "cell_type": "code",
   "execution_count": null,
   "metadata": {},
   "outputs": [],
   "source": [
    "other_county = [x for x in train_weather['区县id'].unique() if x not in testA[0].unique()]\n",
    "for drop_county in other_county:\n",
    "    train_weather=train_weather[~train_weather['区县id'].isin([drop_county])]\n",
    "# 有几个区县在最后要提交的测试集里面没有，先给删了\n"
   ]
  },
  {
   "cell_type": "code",
   "execution_count": null,
   "metadata": {},
   "outputs": [],
   "source": [
    "# # 平均温度也换成近7天的均值\n",
    "# index_unknown=train_weather[train_weather['日平均风速(单位：m/s)']=='/'].index\n",
    "# for index in index_unknown:\n",
    "#     train_weather.loc[index,'日平均风速(单位：m/s)']=train_weather[index-4:index+3]['日平均风速(单位：m/s)'][train_weather['日平均风速(单位：m/s)']!='/'].astype(float).mean()\n",
    "len(train_weather['区县id'].unique())"
   ]
  },
  {
   "cell_type": "code",
   "execution_count": null,
   "metadata": {},
   "outputs": [],
   "source": [
    "# # 湿度和气压也这么替换\n",
    "# index_unknown=train_weather[train_weather['日平均温度（单位：℃）']=='/'].index\n",
    "# for index in index_unknown:\n",
    "#     train_weather.loc[index,'日平均温度（单位：℃）']=train_weather[index-4:index+3]['日平均温度（单位：℃）'][train_weather['日平均温度（单位：℃）']!='/'].astype(float).mean()\n",
    "# index_unknown=train_weather[train_weather['日相对湿度（单位：%）']=='/'].index\n",
    "# for index in index_unknown:\n",
    "#     train_weather.loc[index,'日相对湿度（单位：%）']=train_weather[index-4:index+3]['日相对湿度（单位：%）'][train_weather['日相对湿度（单位：%）']!='/'].astype(float).mean()"
   ]
  },
  {
   "cell_type": "code",
   "execution_count": null,
   "metadata": {},
   "outputs": [],
   "source": [
    "# train_weather[train_weather['日降水量（mm）']=='*'].index\n",
    "# # 检查一下"
   ]
  },
  {
   "cell_type": "code",
   "execution_count": null,
   "metadata": {},
   "outputs": [],
   "source": [
    "# train_weather[train_weather['日平均气压（单位：hPa）']=='/'].index\n",
    "# # 气压这个也需要转换一下\n"
   ]
  },
  {
   "cell_type": "code",
   "execution_count": null,
   "metadata": {},
   "outputs": [],
   "source": [
    "\n",
    "\n",
    "# index_unknown=train_weather[train_weather['日平均气压（单位：hPa）']=='/'].index\n",
    "# for index in index_unknown:\n",
    "#     train_weather.loc[index,'日平均气压（单位：hPa）']=train_weather[index-4:index+3]['日平均气压（单位：hPa）'][train_weather['日平均气压（单位：hPa）']!='/'].astype(float).mean()\n"
   ]
  },
  {
   "cell_type": "code",
   "execution_count": null,
   "metadata": {},
   "outputs": [],
   "source": [
    "# train_weather.to_csv('/home/tianchi/myspace/train_weather.csv')\n",
    "# 保存一下,不过在这种云平台就没什么用了，只能保存到个人空间里面"
   ]
  },
  {
   "cell_type": "code",
   "execution_count": null,
   "metadata": {},
   "outputs": [],
   "source": [
    "train_weather.loc[:,['日照时数（单位：h)','日平均风速(单位：m/s)','日降水量（mm）','日最高温度（单位：℃）','日最低温度（单位：℃）','日平均温度（单位：℃）','日相对湿度（单位：%）','日平均气压（单位：hPa）']].astype(float).shape"
   ]
  },
  {
   "cell_type": "code",
   "execution_count": null,
   "metadata": {},
   "outputs": [],
   "source": [
    "earlyrice=train_weather[[x in [3,4,5,6,7] for x in list(train_weather['月份'])]]\n",
    "laterice=train_weather[[x in [6,7,8,9,10] for x in list(train_weather['月份'])]]\n",
    "# 划分早晚稻"
   ]
  },
  {
   "cell_type": "code",
   "execution_count": null,
   "metadata": {},
   "outputs": [],
   "source": [
    "# 每个地区每年每一周数据取均值作为训练数据\n",
    "from itertools import product\n",
    "X_earlyrice=pd.DataFrame(columns=['区县id','年份','日照时数（单位：h)','日平均风速(单位：m/s)','日降水量（mm）','日最高温度（单位：℃）',\n",
    "                        '日最低温度（单位：℃）','日平均温度（单位：℃）','日相对湿度（单位：%）','日平均气压（单位：hPa）'])\n",
    "X_laterice=pd.DataFrame(columns=['区县id','年份','日照时数（单位：h)','日平均风速(单位：m/s)','日降水量（mm）','日最高温度（单位：℃）',\n",
    "                        '日最低温度（单位：℃）','日平均温度（单位：℃）','日相对湿度（单位：%）','日平均气压（单位：hPa）'])\n",
    "\n",
    "for qxid,year in list(product(list(set(list(earlyrice['区县id']))),list(set(list(earlyrice['年份']))))):\n",
    "    curr=earlyrice[earlyrice['区县id']==qxid][earlyrice['年份']==year]\n",
    "    n=len(curr.index)//7*7\n",
    "    if n!=147:\n",
    "        n=147\n",
    "        curr=curr[['月份','日期','日照时数（单位：h)','日平均风速(单位：m/s)','日降水量（mm）','日最高温度（单位：℃）','日最低温度（单位：℃）',\n",
    "                   '日平均温度（单位：℃）','日相对湿度（单位：%）','日平均气压（单位：hPa）']].astype(float).groupby(['月份','日期']).mean()\n",
    "    x_new=curr[:n][['日照时数（单位：h)','日平均风速(单位：m/s)','日降水量（mm）','日最高温度（单位：℃）','日最低温度（单位：℃）',\n",
    "                '日平均温度（单位：℃）','日相对湿度（单位：%）','日平均气压（单位：hPa）']].astype(float).groupby(np.arange(len(curr.index)//7*7)//7, axis=0).mean()\n",
    "    x_new['年份']=year\n",
    "    x_new['区县id']=qxid\n",
    "    X_earlyrice=X_earlyrice.append(x_new,ignore_index=True)\n",
    "    \n",
    "for qxid,year in list(product(list(set(list(laterice['区县id']))),list(set(list(laterice['年份']))))):\n",
    "    curr=laterice[laterice['区县id']==qxid][laterice['年份']==year]\n",
    "    n=len(curr.index)//7*7\n",
    "    if n!=147:\n",
    "        n=147\n",
    "        curr=curr[['月份','日期','日照时数（单位：h)','日平均风速(单位：m/s)','日降水量（mm）','日最高温度（单位：℃）',\n",
    "                   '日最低温度（单位：℃）','日平均温度（单位：℃）','日相对湿度（单位：%）','日平均气压（单位：hPa）']].astype(float).groupby(['月份','日期']).mean()\n",
    "    x_new=curr[:n][['日照时数（单位：h)','日平均风速(单位：m/s)','日降水量（mm）','日最高温度（单位：℃）','日最低温度（单位：℃）',\n",
    "                '日平均温度（单位：℃）','日相对湿度（单位：%）','日平均气压（单位：hPa）']].astype(float).groupby(np.arange(len(curr.index)//7*7)//7, axis=0).mean()\n",
    "    x_new['年份']=year\n",
    "    x_new['区县id']=qxid\n",
    "    X_laterice=X_laterice.append(x_new,ignore_index=True)"
   ]
  },
  {
   "cell_type": "code",
   "execution_count": null,
   "metadata": {},
   "outputs": [],
   "source": [
    "# 开始划分验证集，测试集，训练集\n",
    "X_earlyrice_val=X_earlyrice[X_earlyrice['年份']==2018]\n",
    "X_laterice_val=X_laterice[X_laterice['年份']==2018]\n",
    "\n",
    "from sklearn.model_selection import train_test_split\n",
    "\n",
    "#index_earlyrice_train,index_earlyrice_test=train_test_split(list(product(list(set(list(X_earlyrice['区县id']))),[2015,2016,2017])),random_state=42)\n",
    "#index_laterice_train,index_laterice_test=train_test_split(list(product(list(set(list(X_laterice['区县id']))),[2015,2016,2017])),random_state=42)\n",
    "index_earlyrice_train,index_earlyrice_test=train_test_split(list(product(list(set(list(train_rice['区县id']))),[2015,2016,2017])),random_state=42)\n",
    "index_laterice_train,index_laterice_test=train_test_split(list(product(list(set(list(train_rice['区县id']))),[2015,2016,2017])),random_state=42)\n",
    "\n",
    "X_earlyrice_train=pd.DataFrame(columns=['区县id','年份','日照时数（单位：h)','日平均风速(单位：m/s)','日降水量（mm）','日最高温度（单位：℃）',\n",
    "                        '日最低温度（单位：℃）','日平均温度（单位：℃）','日相对湿度（单位：%）','日平均气压（单位：hPa）'])\n",
    "X_laterice_train=pd.DataFrame(columns=['区县id','年份','日照时数（单位：h)','日平均风速(单位：m/s)','日降水量（mm）','日最高温度（单位：℃）',\n",
    "                        '日最低温度（单位：℃）','日平均温度（单位：℃）','日相对湿度（单位：%）','日平均气压（单位：hPa）'])\n",
    "X_earlyrice_test=pd.DataFrame(columns=['区县id','年份','日照时数（单位：h)','日平均风速(单位：m/s)','日降水量（mm）','日最高温度（单位：℃）',\n",
    "                        '日最低温度（单位：℃）','日平均温度（单位：℃）','日相对湿度（单位：%）','日平均气压（单位：hPa）'])\n",
    "X_laterice_test=pd.DataFrame(columns=['区县id','年份','日照时数（单位：h)','日平均风速(单位：m/s)','日降水量（mm）','日最高温度（单位：℃）',\n",
    "                        '日最低温度（单位：℃）','日平均温度（单位：℃）','日相对湿度（单位：%）','日平均气压（单位：hPa）'])\n",
    "y_earlyrice_train=[]\n",
    "y_laterice_train=[]\n",
    "y_earlyrice_test=[]\n",
    "y_laterice_test=[]\n",
    "for index in index_earlyrice_train:\n",
    "    qxid,year=index[0],index[1]\n",
    "    curr=X_earlyrice[X_earlyrice['区县id']==qxid][X_earlyrice['年份']==year]\n",
    "    X_earlyrice_train=X_earlyrice_train.append(curr,ignore_index=True)\n",
    "    y=float(train_rice[train_rice['区县id']==qxid][str(year)+'年早稻'].values)\n",
    "    y_earlyrice_train.append(y)\n",
    "for index in index_earlyrice_test:\n",
    "    qxid,year=index[0],index[1]\n",
    "    curr=X_earlyrice[X_earlyrice['区县id']==qxid][X_earlyrice['年份']==year]\n",
    "    X_earlyrice_test=X_earlyrice_test.append(curr,ignore_index=True)\n",
    "    y=float(train_rice[train_rice['区县id']==qxid][str(year)+'年早稻'].values)\n",
    "    y_earlyrice_test.append(y)\n",
    "for index in index_laterice_train:\n",
    "    qxid,year=index[0],index[1]\n",
    "    curr=X_laterice[X_laterice['区县id']==qxid][X_laterice['年份']==year]\n",
    "    X_laterice_train=X_laterice_train.append(curr,ignore_index=True)\n",
    "    y=float(train_rice[train_rice['区县id']==qxid][str(year)+'年早稻'].values)\n",
    "    y_laterice_train.append(y)\n",
    "for index in index_laterice_test:\n",
    "    qxid,year=index[0],index[1]\n",
    "    curr=X_laterice[X_laterice['区县id']==qxid][X_laterice['年份']==year]\n",
    "    X_laterice_test=X_laterice_test.append(curr,ignore_index=True)\n",
    "    y=float(train_rice[train_rice['区县id']==qxid][str(year)+'年早稻'].values)\n",
    "    y_laterice_test.append(y)"
   ]
  },
  {
   "cell_type": "code",
   "execution_count": null,
   "metadata": {},
   "outputs": [],
   "source": [
    "X_earlyrice_val.shape"
   ]
  },
  {
   "cell_type": "code",
   "execution_count": null,
   "metadata": {},
   "outputs": [],
   "source": [
    "X_earlyrice_train.shape"
   ]
  },
  {
   "cell_type": "code",
   "execution_count": null,
   "metadata": {},
   "outputs": [],
   "source": [
    "# 归一化处理\n",
    "from sklearn.preprocessing import StandardScaler\n",
    "\n",
    "scaler = StandardScaler()\n",
    "\n",
    "Xe_train=scaler.fit_transform(X_earlyrice_train[['日照时数（单位：h)','日平均风速(单位：m/s)','日降水量（mm）','日最高温度（单位：℃）',\n",
    "                '日最低温度（单位：℃）','日平均温度（单位：℃）','日相对湿度（单位：%）','日平均气压（单位：hPa）']].values)\n",
    "Xl_train=scaler.fit_transform(X_laterice_train[['日照时数（单位：h)','日平均风速(单位：m/s)','日降水量（mm）','日最高温度（单位：℃）',\n",
    "                '日最低温度（单位：℃）','日平均温度（单位：℃）','日相对湿度（单位：%）','日平均气压（单位：hPa）']].values)\n",
    "Xe_test=scaler.fit_transform(X_earlyrice_test[['日照时数（单位：h)','日平均风速(单位：m/s)','日降水量（mm）','日最高温度（单位：℃）',\n",
    "                '日最低温度（单位：℃）','日平均温度（单位：℃）','日相对湿度（单位：%）','日平均气压（单位：hPa）']].values)\n",
    "Xl_test=scaler.fit_transform(X_laterice_test[['日照时数（单位：h)','日平均风速(单位：m/s)','日降水量（mm）','日最高温度（单位：℃）',\n",
    "                '日最低温度（单位：℃）','日平均温度（单位：℃）','日相对湿度（单位：%）','日平均气压（单位：hPa）']].values)\n",
    "Xe_train=Xe_train.reshape(-1,21,8)\n",
    "# 变成三维数组，然后和test长度相等\n",
    "Xl_train=Xl_train.reshape(-1,21,8)\n",
    "Xe_test=Xe_test.reshape(-1,21,8)\n",
    "Xl_test=Xl_test.reshape(-1,21,8)\n",
    "ye_train=np.array(y_earlyrice_train)\n",
    "yl_train=np.array(y_laterice_train)\n",
    "ye_test=np.array(y_earlyrice_test)\n",
    "yl_test=np.array(y_laterice_test)"
   ]
  },
  {
   "cell_type": "code",
   "execution_count": null,
   "metadata": {},
   "outputs": [],
   "source": [
    "Xe_val=scaler.fit_transform(X_earlyrice_val[['日照时数（单位：h)','日平均风速(单位：m/s)','日降水量（mm）','日最高温度（单位：℃）',\n",
    "                '日最低温度（单位：℃）','日平均温度（单位：℃）','日相对湿度（单位：%）','日平均气压（单位：hPa）']].values)\n",
    "Xe_val=Xe_val.reshape(-1,21,8)"
   ]
  },
  {
   "cell_type": "code",
   "execution_count": null,
   "metadata": {},
   "outputs": [],
   "source": [
    "# LSTM训练\n",
    "def make_batches(X,y,batch_size,n_steps):\n",
    "    np.random.seed(2)\n",
    "    batches=[]\n",
    "\n",
    "    m=len(y)\n",
    "    \n",
    "    permutation = list(np.random.permutation(m)) \n",
    "    shuffled_X=X[permutation,:,:]\n",
    "    shuffled_y=y[permutation]\n",
    "\n",
    "    num_batch_size=m//batch_size\n",
    "    for k in range(num_batch_size):\n",
    "        batch_X=shuffled_X[k*batch_size:(k+1)*batch_size,:,:]\n",
    "        batch_y=shuffled_y[k*batch_size:(k+1)*batch_size]\n",
    "        batch=(batch_X,batch_y)\n",
    "        batches.append(batch)\n",
    "        \n",
    "    if m%batch_size!=0:\n",
    "        batch_X=shuffled_X[num_batch_size*batch_size:,:,:]\n",
    "        batch_y=shuffled_y[num_batch_size*batch_size:]\n",
    "        batch=(batch_X,batch_y)\n",
    "        batches.append(batch)\n",
    "        \n",
    "    return batches"
   ]
  },
  {
   "cell_type": "code",
   "execution_count": null,
   "metadata": {},
   "outputs": [],
   "source": [
    "tf.reset_default_graph()\n",
    "\n",
    "n_steps=21\n",
    "n_inputs=8\n",
    "n_outputs=1\n",
    "n_neurons=100\n",
    "\n",
    "n_iterations = 2000\n",
    "learning_rate=0.001\n",
    "batch_size=8\n",
    "\n",
    "X=tf.placeholder(tf.float32,[None,n_steps,n_inputs])\n",
    "y=tf.placeholder(tf.float32,[None])\n",
    "\n",
    "basic_cell=tf.contrib.rnn.BasicRNNCell(num_units=n_neurons)\n",
    "outputs,states=tf.nn.dynamic_rnn(basic_cell,X,dtype=tf.float32)\n",
    "\n",
    "y_pre=tf.layers.dense(states,n_outputs)\n",
    "loss=tf.reduce_mean(tf.square(y - y_pre), name = 'loss')\n",
    "optimizer=tf.train.AdamOptimizer(learning_rate=learning_rate)\n",
    "training_op=optimizer.minimize(loss)\n",
    "\n",
    "init=tf.global_variables_initializer()\n",
    "saver=tf.train.Saver()\n",
    "\n",
    "batches=make_batches(Xe_train,ye_train,batch_size,n_steps)\n",
    "\n",
    "with tf.Session() as sess:\n",
    "    init.run()\n",
    "    for iterations in range(n_iterations):\n",
    "        for batch in batches:\n",
    "            X_batch,y_batch=batch[0],batch[1]\n",
    "            sess.run(training_op,feed_dict={X:X_batch,y:y_batch})\n",
    "        if iterations%100==0:\n",
    "            test_loss=sess.run(loss,feed_dict={X:Xe_test,y:ye_test})\n",
    "            train_loss=sess.run(loss,feed_dict={X:X_batch,y:y_batch})\n",
    "            print(\"After %d training steps,Train loss is %g,Test loss is %g\"%(iterations,train_loss,test_loss))\n",
    "    saver.save(sess, \"/home/tianchi/myspace/Rice_yield_prediction_LSTM_model\")"
   ]
  },
  {
   "cell_type": "code",
   "execution_count": null,
   "metadata": {},
   "outputs": [],
   "source": [
    "with tf.Session() as sess:\n",
    "    saver.restore(sess,\"/home/tianchi/myspace/Rice_yield_prediction_LSTM_model\")\n",
    "    ye_val_pre=sess.run(y_pre,feed_dict={X:Xe_val})\n",
    "testA['2018年早稻']  = ye_val_pre\n",
    "testA.to_csv('/home/tianchi/myspace/testA.csv')"
   ]
  }
 ],
 "metadata": {
  "kernelspec": {
   "display_name": "Python 2",
   "language": "python",
   "name": "python2"
  },
  "language_info": {
   "codemirror_mode": {
    "name": "ipython",
    "version": 2
   },
   "file_extension": ".py",
   "mimetype": "text/x-python",
   "name": "python",
   "nbconvert_exporter": "python",
   "pygments_lexer": "ipython2",
   "version": "2.7.6"
  }
 },
 "nbformat": 4,
 "nbformat_minor": 0
}
